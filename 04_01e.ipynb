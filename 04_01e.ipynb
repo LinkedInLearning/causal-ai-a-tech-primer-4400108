{
  "cells": [
    {
      "cell_type": "code",
      "source": [
        "pip install dowhy"
      ],
      "metadata": {
        "id": "KHY7rg8HVKmO",
        "colab": {
          "base_uri": "https://localhost:8080/",
          "height": 1000
        },
        "outputId": "50293bd5-d112-4040-cc1a-93a10467649a"
      },
      "id": "KHY7rg8HVKmO",
      "execution_count": 1,
      "outputs": [
        {
          "output_type": "stream",
          "name": "stdout",
          "text": [
            "Looking in indexes: https://pypi.org/simple, https://us-python.pkg.dev/colab-wheels/public/simple/\n",
            "Collecting dowhy\n",
            "  Downloading dowhy-0.9.1-py3-none-any.whl (301 kB)\n",
            "\u001b[2K     \u001b[90m━━━━━━━━━━━━━━━━━━━━━━━━━━━━━━━━━━━━━━━\u001b[0m \u001b[32m301.9/301.9 kB\u001b[0m \u001b[31m6.1 MB/s\u001b[0m eta \u001b[36m0:00:00\u001b[0m\n",
            "\u001b[?25hCollecting causal-learn<0.2.0.0,>=0.1.3.0 (from dowhy)\n",
            "  Downloading causal_learn-0.1.3.3-py3-none-any.whl (172 kB)\n",
            "\u001b[2K     \u001b[90m━━━━━━━━━━━━━━━━━━━━━━━━━━━━━━━━━━━━━━\u001b[0m \u001b[32m172.9/172.9 kB\u001b[0m \u001b[31m12.6 MB/s\u001b[0m eta \u001b[36m0:00:00\u001b[0m\n",
            "\u001b[?25hRequirement already satisfied: cython<0.30.0,>=0.29.32 in /usr/local/lib/python3.10/dist-packages (from dowhy) (0.29.34)\n",
            "Collecting econml (from dowhy)\n",
            "  Downloading econml-0.14.1-cp310-cp310-manylinux_2_17_x86_64.manylinux2014_x86_64.whl (3.5 MB)\n",
            "\u001b[2K     \u001b[90m━━━━━━━━━━━━━━━━━━━━━━━━━━━━━━━━━━━━━━━━\u001b[0m \u001b[32m3.5/3.5 MB\u001b[0m \u001b[31m61.2 MB/s\u001b[0m eta \u001b[36m0:00:00\u001b[0m\n",
            "\u001b[?25hRequirement already satisfied: joblib<2.0.0,>=1.1.0 in /usr/local/lib/python3.10/dist-packages (from dowhy) (1.2.0)\n",
            "Collecting networkx<3.0.0,>=2.8.5 (from dowhy)\n",
            "  Downloading networkx-2.8.8-py3-none-any.whl (2.0 MB)\n",
            "\u001b[2K     \u001b[90m━━━━━━━━━━━━━━━━━━━━━━━━━━━━━━━━━━━━━━━━\u001b[0m \u001b[32m2.0/2.0 MB\u001b[0m \u001b[31m36.4 MB/s\u001b[0m eta \u001b[36m0:00:00\u001b[0m\n",
            "\u001b[?25hCollecting numpy<2.0.0,>=1.23.1 (from dowhy)\n",
            "  Downloading numpy-1.24.3-cp310-cp310-manylinux_2_17_x86_64.manylinux2014_x86_64.whl (17.3 MB)\n",
            "\u001b[2K     \u001b[90m━━━━━━━━━━━━━━━━━━━━━━━━━━━━━━━━━━━━━━━━\u001b[0m \u001b[32m17.3/17.3 MB\u001b[0m \u001b[31m43.7 MB/s\u001b[0m eta \u001b[36m0:00:00\u001b[0m\n",
            "\u001b[?25hRequirement already satisfied: pandas<2.0.0,>=1.4.3 in /usr/local/lib/python3.10/dist-packages (from dowhy) (1.5.3)\n",
            "Collecting scikit-learn<1.2.0 (from dowhy)\n",
            "  Downloading scikit_learn-1.1.3-cp310-cp310-manylinux_2_17_x86_64.manylinux2014_x86_64.whl (30.5 MB)\n",
            "\u001b[2K     \u001b[90m━━━━━━━━━━━━━━━━━━━━━━━━━━━━━━━━━━━━━━━━\u001b[0m \u001b[32m30.5/30.5 MB\u001b[0m \u001b[31m14.6 MB/s\u001b[0m eta \u001b[36m0:00:00\u001b[0m\n",
            "\u001b[?25hRequirement already satisfied: scipy<2.0.0,>=1.8.1 in /usr/local/lib/python3.10/dist-packages (from dowhy) (1.10.1)\n",
            "Collecting sphinx_design<0.4.0,>=0.3.0 (from dowhy)\n",
            "  Downloading sphinx_design-0.3.0-py3-none-any.whl (2.2 MB)\n",
            "\u001b[2K     \u001b[90m━━━━━━━━━━━━━━━━━━━━━━━━━━━━━━━━━━━━━━━━\u001b[0m \u001b[32m2.2/2.2 MB\u001b[0m \u001b[31m46.4 MB/s\u001b[0m eta \u001b[36m0:00:00\u001b[0m\n",
            "\u001b[?25hRequirement already satisfied: statsmodels<0.14.0,>=0.13.2 in /usr/local/lib/python3.10/dist-packages (from dowhy) (0.13.5)\n",
            "Requirement already satisfied: sympy<2.0.0,>=1.10.1 in /usr/local/lib/python3.10/dist-packages (from dowhy) (1.11.1)\n",
            "Requirement already satisfied: tqdm<5.0.0,>=4.64.0 in /usr/local/lib/python3.10/dist-packages (from dowhy) (4.65.0)\n",
            "Requirement already satisfied: graphviz in /usr/local/lib/python3.10/dist-packages (from causal-learn<0.2.0.0,>=0.1.3.0->dowhy) (0.20.1)\n",
            "Requirement already satisfied: matplotlib in /usr/local/lib/python3.10/dist-packages (from causal-learn<0.2.0.0,>=0.1.3.0->dowhy) (3.7.1)\n",
            "Requirement already satisfied: pydot in /usr/local/lib/python3.10/dist-packages (from causal-learn<0.2.0.0,>=0.1.3.0->dowhy) (1.4.2)\n",
            "Requirement already satisfied: python-dateutil>=2.8.1 in /usr/local/lib/python3.10/dist-packages (from pandas<2.0.0,>=1.4.3->dowhy) (2.8.2)\n",
            "Requirement already satisfied: pytz>=2020.1 in /usr/local/lib/python3.10/dist-packages (from pandas<2.0.0,>=1.4.3->dowhy) (2022.7.1)\n",
            "Requirement already satisfied: threadpoolctl>=2.0.0 in /usr/local/lib/python3.10/dist-packages (from scikit-learn<1.2.0->dowhy) (3.1.0)\n",
            "Collecting sphinx<6,>=4 (from sphinx_design<0.4.0,>=0.3.0->dowhy)\n",
            "  Downloading sphinx-5.3.0-py3-none-any.whl (3.2 MB)\n",
            "\u001b[2K     \u001b[90m━━━━━━━━━━━━━━━━━━━━━━━━━━━━━━━━━━━━━━━━\u001b[0m \u001b[32m3.2/3.2 MB\u001b[0m \u001b[31m21.6 MB/s\u001b[0m eta \u001b[36m0:00:00\u001b[0m\n",
            "\u001b[?25hRequirement already satisfied: patsy>=0.5.2 in /usr/local/lib/python3.10/dist-packages (from statsmodels<0.14.0,>=0.13.2->dowhy) (0.5.3)\n",
            "Requirement already satisfied: packaging>=21.3 in /usr/local/lib/python3.10/dist-packages (from statsmodels<0.14.0,>=0.13.2->dowhy) (23.1)\n",
            "Requirement already satisfied: mpmath>=0.19 in /usr/local/lib/python3.10/dist-packages (from sympy<2.0.0,>=1.10.1->dowhy) (1.3.0)\n",
            "Collecting sparse (from econml->dowhy)\n",
            "  Downloading sparse-0.14.0-py2.py3-none-any.whl (80 kB)\n",
            "\u001b[2K     \u001b[90m━━━━━━━━━━━━━━━━━━━━━━━━━━━━━━━━━━━━━━━━\u001b[0m \u001b[32m81.0/81.0 kB\u001b[0m \u001b[31m4.8 MB/s\u001b[0m eta \u001b[36m0:00:00\u001b[0m\n",
            "\u001b[?25hCollecting shap<0.42.0,>=0.38.1 (from econml->dowhy)\n",
            "  Downloading shap-0.41.0-cp310-cp310-manylinux_2_12_x86_64.manylinux2010_x86_64.whl (572 kB)\n",
            "\u001b[2K     \u001b[90m━━━━━━━━━━━━━━━━━━━━━━━━━━━━━━━━━━━━━━\u001b[0m \u001b[32m572.6/572.6 kB\u001b[0m \u001b[31m24.4 MB/s\u001b[0m eta \u001b[36m0:00:00\u001b[0m\n",
            "\u001b[?25hRequirement already satisfied: lightgbm in /usr/local/lib/python3.10/dist-packages (from econml->dowhy) (3.3.5)\n",
            "Requirement already satisfied: six in /usr/local/lib/python3.10/dist-packages (from patsy>=0.5.2->statsmodels<0.14.0,>=0.13.2->dowhy) (1.16.0)\n",
            "Collecting slicer==0.0.7 (from shap<0.42.0,>=0.38.1->econml->dowhy)\n",
            "  Downloading slicer-0.0.7-py3-none-any.whl (14 kB)\n",
            "Requirement already satisfied: numba in /usr/local/lib/python3.10/dist-packages (from shap<0.42.0,>=0.38.1->econml->dowhy) (0.56.4)\n",
            "Requirement already satisfied: cloudpickle in /usr/local/lib/python3.10/dist-packages (from shap<0.42.0,>=0.38.1->econml->dowhy) (2.2.1)\n",
            "Requirement already satisfied: sphinxcontrib-applehelp in /usr/local/lib/python3.10/dist-packages (from sphinx<6,>=4->sphinx_design<0.4.0,>=0.3.0->dowhy) (1.0.4)\n",
            "Requirement already satisfied: sphinxcontrib-devhelp in /usr/local/lib/python3.10/dist-packages (from sphinx<6,>=4->sphinx_design<0.4.0,>=0.3.0->dowhy) (1.0.2)\n",
            "Requirement already satisfied: sphinxcontrib-jsmath in /usr/local/lib/python3.10/dist-packages (from sphinx<6,>=4->sphinx_design<0.4.0,>=0.3.0->dowhy) (1.0.1)\n",
            "Requirement already satisfied: sphinxcontrib-htmlhelp>=2.0.0 in /usr/local/lib/python3.10/dist-packages (from sphinx<6,>=4->sphinx_design<0.4.0,>=0.3.0->dowhy) (2.0.1)\n",
            "Requirement already satisfied: sphinxcontrib-serializinghtml>=1.1.5 in /usr/local/lib/python3.10/dist-packages (from sphinx<6,>=4->sphinx_design<0.4.0,>=0.3.0->dowhy) (1.1.5)\n",
            "Requirement already satisfied: sphinxcontrib-qthelp in /usr/local/lib/python3.10/dist-packages (from sphinx<6,>=4->sphinx_design<0.4.0,>=0.3.0->dowhy) (1.0.3)\n",
            "Requirement already satisfied: Jinja2>=3.0 in /usr/local/lib/python3.10/dist-packages (from sphinx<6,>=4->sphinx_design<0.4.0,>=0.3.0->dowhy) (3.1.2)\n",
            "Requirement already satisfied: Pygments>=2.12 in /usr/local/lib/python3.10/dist-packages (from sphinx<6,>=4->sphinx_design<0.4.0,>=0.3.0->dowhy) (2.14.0)\n",
            "Requirement already satisfied: docutils<0.20,>=0.14 in /usr/local/lib/python3.10/dist-packages (from sphinx<6,>=4->sphinx_design<0.4.0,>=0.3.0->dowhy) (0.16)\n",
            "Requirement already satisfied: snowballstemmer>=2.0 in /usr/local/lib/python3.10/dist-packages (from sphinx<6,>=4->sphinx_design<0.4.0,>=0.3.0->dowhy) (2.2.0)\n",
            "Requirement already satisfied: babel>=2.9 in /usr/local/lib/python3.10/dist-packages (from sphinx<6,>=4->sphinx_design<0.4.0,>=0.3.0->dowhy) (2.12.1)\n",
            "Requirement already satisfied: alabaster<0.8,>=0.7 in /usr/local/lib/python3.10/dist-packages (from sphinx<6,>=4->sphinx_design<0.4.0,>=0.3.0->dowhy) (0.7.13)\n",
            "Requirement already satisfied: imagesize>=1.3 in /usr/local/lib/python3.10/dist-packages (from sphinx<6,>=4->sphinx_design<0.4.0,>=0.3.0->dowhy) (1.4.1)\n",
            "Requirement already satisfied: requests>=2.5.0 in /usr/local/lib/python3.10/dist-packages (from sphinx<6,>=4->sphinx_design<0.4.0,>=0.3.0->dowhy) (2.27.1)\n",
            "Requirement already satisfied: wheel in /usr/local/lib/python3.10/dist-packages (from lightgbm->econml->dowhy) (0.40.0)\n",
            "Requirement already satisfied: contourpy>=1.0.1 in /usr/local/lib/python3.10/dist-packages (from matplotlib->causal-learn<0.2.0.0,>=0.1.3.0->dowhy) (1.0.7)\n",
            "Requirement already satisfied: cycler>=0.10 in /usr/local/lib/python3.10/dist-packages (from matplotlib->causal-learn<0.2.0.0,>=0.1.3.0->dowhy) (0.11.0)\n",
            "Requirement already satisfied: fonttools>=4.22.0 in /usr/local/lib/python3.10/dist-packages (from matplotlib->causal-learn<0.2.0.0,>=0.1.3.0->dowhy) (4.39.3)\n",
            "Requirement already satisfied: kiwisolver>=1.0.1 in /usr/local/lib/python3.10/dist-packages (from matplotlib->causal-learn<0.2.0.0,>=0.1.3.0->dowhy) (1.4.4)\n",
            "Requirement already satisfied: pillow>=6.2.0 in /usr/local/lib/python3.10/dist-packages (from matplotlib->causal-learn<0.2.0.0,>=0.1.3.0->dowhy) (8.4.0)\n",
            "Requirement already satisfied: pyparsing>=2.3.1 in /usr/local/lib/python3.10/dist-packages (from matplotlib->causal-learn<0.2.0.0,>=0.1.3.0->dowhy) (3.0.9)\n",
            "Requirement already satisfied: MarkupSafe>=2.0 in /usr/local/lib/python3.10/dist-packages (from Jinja2>=3.0->sphinx<6,>=4->sphinx_design<0.4.0,>=0.3.0->dowhy) (2.1.2)\n",
            "Requirement already satisfied: llvmlite<0.40,>=0.39.0dev0 in /usr/local/lib/python3.10/dist-packages (from numba->shap<0.42.0,>=0.38.1->econml->dowhy) (0.39.1)\n",
            "Collecting numpy<2.0.0,>=1.23.1 (from dowhy)\n",
            "  Downloading numpy-1.23.5-cp310-cp310-manylinux_2_17_x86_64.manylinux2014_x86_64.whl (17.1 MB)\n",
            "\u001b[2K     \u001b[90m━━━━━━━━━━━━━━━━━━━━━━━━━━━━━━━━━━━━━━━━\u001b[0m \u001b[32m17.1/17.1 MB\u001b[0m \u001b[31m50.8 MB/s\u001b[0m eta \u001b[36m0:00:00\u001b[0m\n",
            "\u001b[?25hRequirement already satisfied: setuptools in /usr/local/lib/python3.10/dist-packages (from numba->shap<0.42.0,>=0.38.1->econml->dowhy) (67.7.2)\n",
            "Requirement already satisfied: urllib3<1.27,>=1.21.1 in /usr/local/lib/python3.10/dist-packages (from requests>=2.5.0->sphinx<6,>=4->sphinx_design<0.4.0,>=0.3.0->dowhy) (1.26.15)\n",
            "Requirement already satisfied: certifi>=2017.4.17 in /usr/local/lib/python3.10/dist-packages (from requests>=2.5.0->sphinx<6,>=4->sphinx_design<0.4.0,>=0.3.0->dowhy) (2022.12.7)\n",
            "Requirement already satisfied: charset-normalizer~=2.0.0 in /usr/local/lib/python3.10/dist-packages (from requests>=2.5.0->sphinx<6,>=4->sphinx_design<0.4.0,>=0.3.0->dowhy) (2.0.12)\n",
            "Requirement already satisfied: idna<4,>=2.5 in /usr/local/lib/python3.10/dist-packages (from requests>=2.5.0->sphinx<6,>=4->sphinx_design<0.4.0,>=0.3.0->dowhy) (3.4)\n",
            "Installing collected packages: slicer, numpy, networkx, sphinx, sphinx_design, sparse, scikit-learn, shap, causal-learn, econml, dowhy\n",
            "  Attempting uninstall: numpy\n",
            "    Found existing installation: numpy 1.22.4\n",
            "    Uninstalling numpy-1.22.4:\n",
            "      Successfully uninstalled numpy-1.22.4\n",
            "  Attempting uninstall: networkx\n",
            "    Found existing installation: networkx 3.1\n",
            "    Uninstalling networkx-3.1:\n",
            "      Successfully uninstalled networkx-3.1\n",
            "  Attempting uninstall: sphinx\n",
            "    Found existing installation: Sphinx 3.5.4\n",
            "    Uninstalling Sphinx-3.5.4:\n",
            "      Successfully uninstalled Sphinx-3.5.4\n",
            "  Attempting uninstall: scikit-learn\n",
            "    Found existing installation: scikit-learn 1.2.2\n",
            "    Uninstalling scikit-learn-1.2.2:\n",
            "      Successfully uninstalled scikit-learn-1.2.2\n",
            "Successfully installed causal-learn-0.1.3.3 dowhy-0.9.1 econml-0.14.1 networkx-2.8.8 numpy-1.23.5 scikit-learn-1.1.3 shap-0.41.0 slicer-0.0.7 sparse-0.14.0 sphinx-5.3.0 sphinx_design-0.3.0\n"
          ]
        },
        {
          "output_type": "display_data",
          "data": {
            "application/vnd.colab-display-data+json": {
              "pip_warning": {
                "packages": [
                  "numpy"
                ]
              }
            }
          },
          "metadata": {}
        }
      ]
    },
    {
      "cell_type": "markdown",
      "id": "eacef806",
      "metadata": {
        "id": "eacef806"
      },
      "source": [
        "# Example 1 - Applying DoWhy On Simulated Dataset"
      ]
    },
    {
      "cell_type": "markdown",
      "id": "0fd2c43d",
      "metadata": {
        "id": "0fd2c43d"
      },
      "source": [
        "In this example, we will create dummy dataset using DoWhy library and apply CausalModel on it. Furthermore, we will go through the 4 major steps of Causal AI."
      ]
    },
    {
      "cell_type": "markdown",
      "id": "e4f44cca",
      "metadata": {
        "id": "e4f44cca"
      },
      "source": [
        "## Importing the Libraries"
      ]
    },
    {
      "cell_type": "code",
      "execution_count": 1,
      "id": "845026fc",
      "metadata": {
        "id": "845026fc"
      },
      "outputs": [],
      "source": [
        "import warnings\n",
        "warnings.filterwarnings('ignore')\n",
        "import numpy as np\n",
        "import pandas as pd\n",
        "from dowhy import CausalModel\n",
        "import dowhy.datasets"
      ]
    },
    {
      "cell_type": "markdown",
      "id": "5ede9e53",
      "metadata": {
        "id": "5ede9e53"
      },
      "source": [
        "## Loading Sample Data From DoWhy"
      ]
    },
    {
      "cell_type": "code",
      "execution_count": 2,
      "id": "77720b86",
      "metadata": {
        "colab": {
          "base_uri": "https://localhost:8080/"
        },
        "id": "77720b86",
        "outputId": "861140c3-92a9-409b-ebf5-a4eaaaac8e58"
      },
      "outputs": [
        {
          "output_type": "execute_result",
          "data": {
            "text/plain": [
              "{'df':        Z0        W0     v0          y\n",
              " 0     1.0  0.295307   True  10.955014\n",
              " 1     0.0  1.235095   True  13.987634\n",
              " 2     0.0  1.658024   True  15.345992\n",
              " 3     0.0 -0.908320  False  -2.933957\n",
              " 4     0.0  1.129816   True  13.643004\n",
              " ...   ...       ...    ...        ...\n",
              " 9995  0.0  0.609099   True  11.971544\n",
              " 9996  0.0  1.142351   True  13.699181\n",
              " 9997  0.0  1.071491   True  13.437046\n",
              " 9998  0.0  1.293661   True  14.171508\n",
              " 9999  0.0 -0.274932  False  -0.898354\n",
              " \n",
              " [10000 rows x 4 columns],\n",
              " 'treatment_name': ['v0'],\n",
              " 'outcome_name': 'y',\n",
              " 'common_causes_names': ['W0'],\n",
              " 'instrument_names': ['Z0'],\n",
              " 'effect_modifier_names': [],\n",
              " 'frontdoor_variables_names': [],\n",
              " 'dot_graph': 'digraph {v0->y;W0-> v0;Z0-> v0;W0-> y;}',\n",
              " 'gml_graph': 'graph[directed 1node[ id \"y\" label \"y\"]node[ id \"W0\" label \"W0\"]node[ id \"Z0\" label \"Z0\"]node[ id \"v0\" label \"v0\"]edge[source \"v0\" target \"y\"]edge[ source \"W0\" target \"v0\"]edge[ source \"Z0\" target \"v0\"]edge[ source \"W0\" target \"y\"]]',\n",
              " 'ate': 10.000275968630952}"
            ]
          },
          "metadata": {},
          "execution_count": 2
        }
      ],
      "source": [
        "data = dowhy.datasets.linear_dataset(\n",
        "            beta=10,\n",
        "            num_common_causes=1,\n",
        "            num_instruments=1,\n",
        "            num_samples=10000,\n",
        "            treatment_is_binary=True)\n",
        "data"
      ]
    },
    {
      "cell_type": "markdown",
      "id": "0c0101b7",
      "metadata": {
        "id": "0c0101b7"
      },
      "source": [
        "## Step 1 Of Causal AI: Create a causal model from the data and given graph."
      ]
    },
    {
      "cell_type": "code",
      "execution_count": 3,
      "id": "c6c3b1e8",
      "metadata": {
        "id": "c6c3b1e8"
      },
      "outputs": [],
      "source": [
        "model = CausalModel(\n",
        "            data=data[\"df\"],\n",
        "            treatment=data[\"treatment_name\"],\n",
        "            outcome=data[\"outcome_name\"],\n",
        "            graph=data[\"gml_graph\"])"
      ]
    },
    {
      "cell_type": "code",
      "source": [
        "model.view_model()"
      ],
      "metadata": {
        "colab": {
          "base_uri": "https://localhost:8080/",
          "height": 536
        },
        "id": "Tdo2l1GZWuTM",
        "outputId": "8348c618-7b3a-47b5-d58e-1b26962f7dc6"
      },
      "id": "Tdo2l1GZWuTM",
      "execution_count": 4,
      "outputs": [
        {
          "output_type": "stream",
          "name": "stderr",
          "text": [
            "WARNING:dowhy.causal_graph:Warning: Pygraphviz cannot be loaded. Check that graphviz and pygraphviz are installed.\n"
          ]
        },
        {
          "output_type": "display_data",
          "data": {
            "text/plain": [
              "<Figure size 800x600 with 1 Axes>"
            ],
            "image/png": "[encoded data removed]"
          },
          "metadata": {}
        }
      ]
    },
    {
      "cell_type": "markdown",
      "id": "70213973",
      "metadata": {
        "id": "70213973"
      },
      "source": [
        "## Step 2 Of Causal AI: Identify causal effect and return target estimands"
      ]
    },
    {
      "cell_type": "code",
      "execution_count": 5,
      "id": "78b01c8f",
      "metadata": {
        "colab": {
          "base_uri": "https://localhost:8080/"
        },
        "id": "78b01c8f",
        "outputId": "123779e0-7a70-4eda-8bf8-61637c13a973"
      },
      "outputs": [
        {
          "output_type": "stream",
          "name": "stdout",
          "text": [
            "Estimand type: EstimandType.NONPARAMETRIC_ATE\n",
            "\n",
            "### Estimand : 1\n",
            "Estimand name: backdoor\n",
            "Estimand expression:\n",
            "  d           \n",
            "─────(E[y|W0])\n",
            "d[v₀]         \n",
            "Estimand assumption 1, Unconfoundedness: If U→{v0} and U→y then P(y|v0,W0,U) = P(y|v0,W0)\n",
            "\n",
            "### Estimand : 2\n",
            "Estimand name: iv\n",
            "Estimand expression:\n",
            " ⎡                      -1⎤\n",
            " ⎢  d      ⎛  d        ⎞  ⎥\n",
            "E⎢─────(y)⋅⎜─────([v₀])⎟  ⎥\n",
            " ⎣d[Z₀]    ⎝d[Z₀]      ⎠  ⎦\n",
            "Estimand assumption 1, As-if-random: If U→→y then ¬(U →→{Z0})\n",
            "Estimand assumption 2, Exclusion: If we remove {Z0}→{v0}, then ¬({Z0}→y)\n",
            "\n",
            "### Estimand : 3\n",
            "Estimand name: frontdoor\n",
            "No such variable(s) found!\n",
            "\n"
          ]
        }
      ],
      "source": [
        "identified_estimand = model.identify_effect()\n",
        "print(identified_estimand)"
      ]
    },
    {
      "cell_type": "markdown",
      "id": "205e087c",
      "metadata": {
        "id": "205e087c"
      },
      "source": [
        "## Step 3 Of Causal AI: Estimate the target estimand using a statistical method."
      ]
    },
    {
      "cell_type": "code",
      "execution_count": 6,
      "id": "b39fc087",
      "metadata": {
        "colab": {
          "base_uri": "https://localhost:8080/"
        },
        "id": "b39fc087",
        "outputId": "bcd7633d-aba7-4c90-e832-a2d2a0045124"
      },
      "outputs": [
        {
          "output_type": "stream",
          "name": "stdout",
          "text": [
            "*** Causal Estimate ***\n",
            "\n",
            "## Identified estimand\n",
            "Estimand type: EstimandType.NONPARAMETRIC_ATE\n",
            "\n",
            "### Estimand : 1\n",
            "Estimand name: backdoor\n",
            "Estimand expression:\n",
            "  d           \n",
            "─────(E[y|W0])\n",
            "d[v₀]         \n",
            "Estimand assumption 1, Unconfoundedness: If U→{v0} and U→y then P(y|v0,W0,U) = P(y|v0,W0)\n",
            "\n",
            "## Realized estimand\n",
            "b: y~v0+W0\n",
            "Target units: ate\n",
            "\n",
            "## Estimate\n",
            "Mean value: 10.512993287375462\n",
            "\n"
          ]
        }
      ],
      "source": [
        "estimate = model.estimate_effect(identified_estimand,\n",
        "                                 method_name=\"backdoor.propensity_score_matching\")\n",
        "print(estimate)"
      ]
    },
    {
      "cell_type": "markdown",
      "id": "5930e12a",
      "metadata": {
        "id": "5930e12a"
      },
      "source": [
        "## Step 4 Of Causal AI: Refute the obtained estimate using multiple robustness checks."
      ]
    },
    {
      "cell_type": "markdown",
      "id": "4b60bd17",
      "metadata": {
        "id": "4b60bd17"
      },
      "source": [
        "There are different methods supported by DoWhy package to refute (prove or disaprove) obtained results.\n",
        "\n",
        "We will use two most popular methods:\n",
        "\n",
        "1) Adding Random Common Cause\n",
        "\n",
        "2) Using Subset of Data\n",
        "\n",
        "In method 1, randomly-generated cofounder (e.g. independent variable) is added to data to check whether estimation remains almost same or gets changed after data is changed.\n",
        "\n",
        "In method 2, random subset of data is removed to check whether estimation remains almost same after data is reduced.\n",
        "\n",
        "Furthermore, P-Value plays important role in validating whether refute test passes or fails. If P-Value is less than 0.05 then it means test has failed."
      ]
    },
    {
      "cell_type": "code",
      "execution_count": 7,
      "id": "52ca0df8",
      "metadata": {
        "colab": {
          "base_uri": "https://localhost:8080/"
        },
        "id": "52ca0df8",
        "outputId": "d0c0b6f1-d4e0-4540-bcc4-f20eda9b4343"
      },
      "outputs": [
        {
          "output_type": "stream",
          "name": "stdout",
          "text": [
            "Refute: Add a random common cause\n",
            "Estimated effect:10.512993287375462\n",
            "New effect:10.512993287375462\n",
            "p value:2.0\n",
            "\n"
          ]
        }
      ],
      "source": [
        "refute_random_cause = model.refute_estimate(identified_estimand, estimate, method_name=\"random_common_cause\")\n",
        "print(refute_random_cause)"
      ]
    },
    {
      "cell_type": "code",
      "execution_count": 8,
      "id": "1e66b657",
      "metadata": {
        "colab": {
          "base_uri": "https://localhost:8080/"
        },
        "id": "1e66b657",
        "outputId": "e7595fdf-53fa-48d4-f368-0ab11f0e3f1e"
      },
      "outputs": [
        {
          "output_type": "stream",
          "name": "stdout",
          "text": [
            "Refute: Use a subset of data\n",
            "Estimated effect:10.512993287375462\n",
            "New effect:10.518861369835967\n",
            "p value:0.9199999999999999\n",
            "\n"
          ]
        }
      ],
      "source": [
        "refute_data_subset = model.refute_estimate(identified_estimand, estimate, method_name=\"data_subset_refuter\")\n",
        "print(refute_data_subset)"
      ]
    },
    {
      "cell_type": "markdown",
      "id": "feb19dbf",
      "metadata": {
        "id": "feb19dbf"
      },
      "source": [
        "As we can see in both refute tests, new effect is almost similar or nearer to estimated effect and p-value is also greater than 0.05 so we can conclude that both refute tests have passed."
      ]
    }
  ],
  "metadata": {
    "kernelspec": {
      "display_name": "Python [conda env:tf]",
      "language": "python",
      "name": "conda-env-tf-py"
    },
    "language_info": {
      "codemirror_mode": {
        "name": "ipython",
        "version": 3
      },
      "file_extension": ".py",
      "mimetype": "text/x-python",
      "name": "python",
      "nbconvert_exporter": "python",
      "pygments_lexer": "ipython3",
      "version": "3.9.16"
    },
    "colab": {
      "provenance": []
    }
  },
  "nbformat": 4,
  "nbformat_minor": 5
}